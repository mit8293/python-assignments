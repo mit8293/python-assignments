{
 "cells": [
  {
   "cell_type": "markdown",
   "id": "bbf9b725",
   "metadata": {},
   "source": [
    "Module_4"
   ]
  },
  {
   "cell_type": "code",
   "execution_count": null,
   "id": "e925ba28",
   "metadata": {},
   "outputs": [],
   "source": [
    "# Q1 What is File function in python? What is keywords to create and write file.\n",
    "''' File function is used to perform actions on file. \n",
    "To create file : open('filepath/name.ext','x') and to write file : open('filepath/name.ext','w')=>.write() '''\n"
   ]
  },
  {
   "cell_type": "code",
   "execution_count": null,
   "id": "8a1cf6aa",
   "metadata": {},
   "outputs": [],
   "source": [
    "# Q2 Write a Python program to read an entire text file.\n",
    "'''file_read=open('Pyton101.txt','r')\n",
    "print(file_read.read())\n",
    "file_read.close()'''"
   ]
  },
  {
   "cell_type": "code",
   "execution_count": null,
   "id": "5ec32a22",
   "metadata": {},
   "outputs": [],
   "source": [
    "# Q3 Write a Python program to append text to a file and display the text.\n",
    "'''\n",
    "file_edit = open('Pyton101.txt','a')\n",
    "file_edit.write('\\nThis is Second Line')\n",
    "file_edit.close()\n",
    "file_edit1 = open('Pyton101.txt','r')\n",
    "print(file_edit1.read())\n",
    "file_edit1.close()\n",
    "'''"
   ]
  },
  {
   "cell_type": "code",
   "execution_count": null,
   "id": "8eeb0086",
   "metadata": {},
   "outputs": [],
   "source": [
    "# Q4 Write a Python program to read first n lines of a file.\n",
    "'''\n",
    "n = int(input())\n",
    "file_20 =  open('Pyton101.txt','r')\n",
    "x = file_20.readlines()\n",
    "y=x[0:n]\n",
    "for i in y:\n",
    "    print(i)\n",
    "file_20.close()\n",
    "'''"
   ]
  },
  {
   "cell_type": "code",
   "execution_count": null,
   "id": "9a82d8cc",
   "metadata": {},
   "outputs": [],
   "source": [
    "# Q5 Write a Python program to read last n lines of a file.\n",
    "'''\n",
    "n = int(input())\n",
    "file_21 =  open('Pyton101.txt','r')\n",
    "x = file_21.readlines()\n",
    "l = len(x)\n",
    "y = x[(l-n):]\n",
    "for i in y:\n",
    "    print(i)\n",
    "file_21.close()\n",
    "'''"
   ]
  },
  {
   "cell_type": "code",
   "execution_count": null,
   "id": "051befa9",
   "metadata": {},
   "outputs": [],
   "source": [
    "# Q6 Write a Python program to read a file line by line and store it into a list\n",
    "'''\n",
    "file_edit2 = open('Pyton101.txt','r')\n",
    "lis=file_edit2.readlines()\n",
    "file_edit2.close()\n",
    "print(lis)\n",
    "'''"
   ]
  },
  {
   "cell_type": "code",
   "execution_count": null,
   "id": "68e5ce0a",
   "metadata": {},
   "outputs": [],
   "source": [
    "# Q7 Write a Python program to read a file line by line store it into a variable\n",
    "'''\n",
    "filed=open('Pyton101.txt','r')\n",
    "var1 = filed.readlines()\n",
    "filed.close()\n",
    "print(var1)\n",
    "'''"
   ]
  },
  {
   "cell_type": "code",
   "execution_count": null,
   "id": "52ed78ef",
   "metadata": {},
   "outputs": [],
   "source": [
    "# Q8 Write a python program to find the longest words.\n",
    "'''\n",
    "filex=open('Pyton101.txt','r')\n",
    "lin = filex.readlines()\n",
    "temp = 0\n",
    "for i in lin:\n",
    "    x = i.split()\n",
    "    for y in x:\n",
    "        if len(y)>temp:\n",
    "            temp = len(y)\n",
    "            word = y\n",
    "print(word,'is the longest word')\n",
    "filex.close()\n",
    "'''"
   ]
  },
  {
   "cell_type": "code",
   "execution_count": null,
   "id": "e86cd067",
   "metadata": {},
   "outputs": [],
   "source": [
    "# Q9 Write a Python program to count the number of lines in a text file.\n",
    "'''\n",
    "filey = open('Pyton101.txt','r')\n",
    "x= filey.readlines()\n",
    "filey.close()\n",
    "print(len(x),'lines in file')\n",
    "'''"
   ]
  },
  {
   "cell_type": "code",
   "execution_count": null,
   "id": "94eb90cd",
   "metadata": {},
   "outputs": [],
   "source": [
    "# Q10 Write a Python program to count the frequency of words in a file.\n",
    "'''\n",
    "filek=open('Pyton101.txt','r')\n",
    "lin1 = filek.readlines()\n",
    "list1 = []\n",
    "for i in lin1:\n",
    "    x = i.split()\n",
    "    for y in x:\n",
    "        list1.append(y)\n",
    "for k in list1:\n",
    "    print(k,list1.count(k))\n",
    "filek.close()\n",
    "'''"
   ]
  },
  {
   "cell_type": "code",
   "execution_count": null,
   "id": "20731be4",
   "metadata": {},
   "outputs": [],
   "source": [
    "# Q11 Write a Python program to write a list to a file.\n",
    "'''\n",
    "ls1 = ['mit','surat']\n",
    "file1 = open('tops2.txt','w')\n",
    "for i in ls1:\n",
    "    file1.writelines(i+'\\n')\n",
    "file1.close()\n",
    "'''"
   ]
  },
  {
   "cell_type": "code",
   "execution_count": null,
   "id": "9f0efcc0",
   "metadata": {},
   "outputs": [],
   "source": [
    "# Q12 Write a Python program to copy the contents of a file to another file.\n",
    "'''\n",
    "file101 = open('tops2.txt','r')\n",
    "f_content = file101.readlines()\n",
    "file101.close()\n",
    "file201 = open('tops2copy.txt','w')\n",
    "file201.writelines(f_content)\n",
    "file201.close()\n",
    "'''"
   ]
  },
  {
   "cell_type": "code",
   "execution_count": null,
   "id": "8e3efac5",
   "metadata": {},
   "outputs": [],
   "source": [
    "# Q13 Explain Exception handling? What is an Error in Python?\n",
    "'''\n",
    "Exception Handling is a process of handling unexpexted Errors, \n",
    "without stopping the programme execution.\n",
    "Errors are problems that occur in the program due to an illegal operation performed by the user or by the fault of a programmer,\n",
    "which halts the normal flow of the program.\n",
    "'''\n"
   ]
  },
  {
   "cell_type": "code",
   "execution_count": null,
   "id": "9a5c6bfc",
   "metadata": {},
   "outputs": [],
   "source": [
    "# Q14 How many except statements can a try-except block have? Name Some built-in exception classes:\n",
    "'''\n",
    "One or more than one except statements can be use in try except block.\n",
    "Built in exception class are ValueError, NameError, KeyError, ZeroDivisionError, etc...\n",
    "'''"
   ]
  },
  {
   "cell_type": "code",
   "execution_count": null,
   "id": "5883816b",
   "metadata": {},
   "outputs": [],
   "source": [
    "# Q15 When will the else part of try-except-else be executed?\n",
    "'''\n",
    "else part executes only after try block executes succesfully.\n",
    "'''"
   ]
  },
  {
   "cell_type": "code",
   "execution_count": null,
   "id": "0f09b3a4",
   "metadata": {},
   "outputs": [],
   "source": [
    "# Q16 Can one block of except statements handle multiple exception?\n",
    "'''\n",
    "One Block of except statements can handle one exception per block. \n",
    "To Use multiple Handling we can use nested try-catch block\n",
    "'''"
   ]
  },
  {
   "cell_type": "code",
   "execution_count": null,
   "id": "1235f03c",
   "metadata": {},
   "outputs": [],
   "source": [
    "# Q17 When is the finally block executed?\n",
    "'''\n",
    "Always executes after try and except block\n",
    "'''"
   ]
  },
  {
   "cell_type": "code",
   "execution_count": null,
   "id": "c3565175",
   "metadata": {},
   "outputs": [],
   "source": [
    "# Q18 What happens when '1‟== 1 is executed?\n",
    "'''\n",
    "'1' == 1 will check the value of both sides and if value is equal will return True else false\n",
    "'''"
   ]
  },
  {
   "cell_type": "code",
   "execution_count": null,
   "id": "3c1859df",
   "metadata": {},
   "outputs": [],
   "source": [
    "# Q19 How Do You Handle Exceptions With Try/Except/Finally In Python?Explain with coding snippets.\n",
    "try:\n",
    "    number = int(input())\n",
    "    k=number/5\n",
    "    print(k)\n",
    "except ValueError:\n",
    "    print('Error!! Run again and Enter Integer Number')\n",
    "except:\n",
    "    print('An Error Occured')\n",
    "finally:\n",
    "    print('You have reached the last statment, nothing left to be executed')"
   ]
  },
  {
   "cell_type": "code",
   "execution_count": null,
   "id": "32bc0e0d",
   "metadata": {},
   "outputs": [],
   "source": [
    "# Q20 Write python program that user to enter only odd numbers, else will raise an exception.\n",
    "class OddEvenError(Exception):\n",
    "    pass\n",
    "num = int(input())\n",
    "if num%2==0:\n",
    "    raise OddEvenError('Please Enter Odd Number')"
   ]
  },
  {
   "cell_type": "code",
   "execution_count": null,
   "id": "5a1b3455",
   "metadata": {},
   "outputs": [],
   "source": [
    "# Q21 What are oops concepts? Is multiple inheritance supported in java\n",
    "'''Concepts of Object-Oriented Programming (OOPs)\n",
    "Class and Objects\n",
    "Inheritance\n",
    "Polymorphism\n",
    "Encapsulation\n",
    "Data Abstraction\n",
    "Yes Inheritance does support in java'''"
   ]
  },
  {
   "cell_type": "code",
   "execution_count": null,
   "id": "ce9e358f",
   "metadata": {},
   "outputs": [],
   "source": [
    "# Q22 How to Define a Class in Python? What Is Self? Give An Example Of A Python Class\n",
    "'''\n",
    "A Class is like an object constructor, or a \"blueprint\" for creating objects.\n",
    "Self is the parameter in (init) function that points the instance of that class\n",
    "'''\n",
    "class Example:\n",
    "    def __init__(self,a):\n",
    "        self.a = a\n",
    "Ex = Example('mit')"
   ]
  },
  {
   "cell_type": "code",
   "execution_count": null,
   "id": "aeb3cec4",
   "metadata": {},
   "outputs": [],
   "source": [
    "# Q23 Write a Python class named Rectangle constructed by a length and width \n",
    "# and a method which will compute the area of a rectangle.\n",
    "\n",
    "class Rectangle:\n",
    "    def __init__(self,l,w):\n",
    "        self.length = l\n",
    "        self.width = w\n",
    "    def area(self):\n",
    "        return (self.length * self.width)\n",
    "R1 = Rectangle(23,24)\n",
    "R1.area()"
   ]
  },
  {
   "cell_type": "code",
   "execution_count": null,
   "id": "8e79ef51",
   "metadata": {},
   "outputs": [],
   "source": [
    "# Q 24 Write a Python \n",
    "# class named Circle constructed by a radius and \n",
    "# two methods which will compute the area and \n",
    "# the perimeter of a circle\n",
    "\n",
    "class Circle:\n",
    "    def __init__(self,r):\n",
    "        self.radius = r\n",
    "    def area(self):\n",
    "        return (3.14 * self.radius**2)\n",
    "    def perimeter(self):\n",
    "        return (2*3.14 * self.radius)\n",
    "C1 = Circle(5)\n",
    "C1.area()\n",
    "C1.perimeter()"
   ]
  },
  {
   "cell_type": "code",
   "execution_count": null,
   "id": "860fa7a3",
   "metadata": {},
   "outputs": [],
   "source": [
    "#test WSL"
   ]
  },
  {
   "cell_type": "code",
   "execution_count": null,
   "id": "5c2b2196",
   "metadata": {},
   "outputs": [],
   "source": [
    "#test WSL2"
   ]
  }
 ],
 "metadata": {
  "authors": [
   {
    "name": "Mit Desai"
   }
  ],
  "kernelspec": {
   "display_name": "Python 3 (ipykernel)",
   "language": "python",
   "name": "python3"
  },
  "language_info": {
   "codemirror_mode": {
    "name": "ipython",
    "version": 3
   },
   "file_extension": ".py",
   "mimetype": "text/x-python",
   "name": "python",
   "nbconvert_exporter": "python",
   "pygments_lexer": "ipython3",
   "version": "3.9.13"
  },
  "title": "Module_4"
 },
 "nbformat": 4,
 "nbformat_minor": 5
}
