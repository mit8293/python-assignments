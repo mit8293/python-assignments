{
 "cells": [
  {
   "cell_type": "code",
   "execution_count": null,
   "id": "44b11936",
   "metadata": {},
   "outputs": [],
   "source": [
    "#Module 3"
   ]
  },
  {
   "cell_type": "code",
   "execution_count": null,
   "id": "66f57e73",
   "metadata": {},
   "outputs": [],
   "source": [
    "# Q1\n",
    "# what is list? how will you reverse the list?\n",
    "''' \n",
    "Collection data type\n",
    "Sequence data type to store collection of data\n",
    "iterables seperated by comma and enclosed in []\n",
    "is mutable\n",
    "is ordered\n",
    "'''\n",
    "# Reversing a list\n",
    "list1 = input(\"Enter list items seperated with space: \").split()\n",
    "print(list1)\n",
    "print(\"Using logic\")\n",
    "l = 0\n",
    "r = len(list1)-1\n",
    "while(l<r):\n",
    "    temp = list1[l]\n",
    "    list1[l]=list1[r]\n",
    "    list1[r]=temp\n",
    "    l+=1\n",
    "    r-=1\n",
    "print(list1)\n",
    "print(\"Using reverse function\")\n",
    "list1.reverse()\n",
    "print(list1)"
   ]
  },
  {
   "cell_type": "code",
   "execution_count": null,
   "id": "43f9139f",
   "metadata": {},
   "outputs": [],
   "source": [
    "# Q2\n",
    "# How will you remove last object from a list?\n",
    "list1 = input(\"Enter list items seperated with space: \").split()\n",
    "print(list1)\n",
    "print(\"slicing\")\n",
    "remove_last1 = list1[:-1]\n",
    "print(remove_last1)\n",
    "print(\"pop\")\n",
    "list1.pop()\n",
    "print(list1)\n",
    "print(\"del keyword\")\n",
    "del list1[-1]\n",
    "print(list1)"
   ]
  },
  {
   "cell_type": "code",
   "execution_count": null,
   "id": "ab6b27a5",
   "metadata": {},
   "outputs": [],
   "source": [
    "# Q3\n",
    "# Suppose list1 is [2, 33, 222, 14, and 25], what is list1 [-1]?\n",
    "list1 = [2,33,222,14,\"and 25\"]\n",
    "print(list1[-1])`"
   ]
  },
  {
   "cell_type": "code",
   "execution_count": null,
   "id": "20f2aebd",
   "metadata": {},
   "outputs": [],
   "source": [
    "# Q3\n",
    "# Differentiate between append () and extend () methods?\n",
    "# append()\n",
    "'''It adds an element at the end of the list. \n",
    "The argument passed in the append function is added as a single element at end of the list \n",
    "and the length of the list is increased by 1.\n",
    "\n",
    "syntax:\n",
    "\n",
    "list_name.append(element)\n",
    "example:\n",
    "list1.append(\"mit\")\n",
    "list1.append(\"desai\")\n",
    "(takes only 1 argument/element)\n",
    "'''\n",
    "# extend()\n",
    "'''\n",
    "This method appends each element of the iterable (tuple, string, or list) \n",
    "to the end of the list and increases the length of the list \n",
    "by the number of elements of the iterable passed as an argument.\n",
    "\n",
    "sytax:\n",
    "\n",
    "list_name.extend(iterable)\n",
    "example:\n",
    "list1.extend(['mit','desai'])\n",
    "(this adds whole list at the end of list1)\n",
    "\n",
    "'''\n"
   ]
  },
  {
   "cell_type": "code",
   "execution_count": null,
   "id": "ce79b1ff",
   "metadata": {},
   "outputs": [],
   "source": [
    "# Different methods for Taking input for list from user \n",
    "\n",
    "# taking input with map function\n",
    "'''\n",
    "list1 = list(map(int,input(\"enter only numbers with space : \").strip().split()))\n",
    "'''\n",
    "# try except method for taking number input\n",
    "'''\n",
    "try:\n",
    "    list1=[]\n",
    "    while True:\n",
    "        list1.append(int(input(\"Please enter only numbers and pass string to stop: \")))\n",
    "except:\n",
    "    print(list1)\n",
    "'''\n",
    "#basic\n",
    "'''\n",
    "list1=[]\n",
    "n=int(input('Enter number of elements:'))\n",
    "for i in range (0,n):\n",
    "    ele = int(input(\"Enter only numbers: \"))\n",
    "    list1.append(ele)\n",
    "print(list1)\n",
    "'''\n",
    "# basic : taking input as string and convert it to int or float \n",
    "'''\n",
    "list1=input(\"Enter numbers only using space: \").split()\n",
    "print(list1)\n",
    "for i in range(0,len(list1)):\n",
    "    list1[i]=int(list1[i])\n",
    "print(list1)\n",
    "'''\n",
    "\n",
    "#taking input as string and convert it to int or float using map\n",
    "'''\n",
    "list1=input(\"Enter numbers only using space: \").split()\n",
    "print(list1)\n",
    "list2=list(map(int,list1))\n",
    "print(list2)\n",
    "'''\n",
    "#taking input as string and convert it to int or float using list comprehension\n",
    "'''\n",
    "list1=input(\"Enter numbers only using space: \").split()\n",
    "print(list1)\n",
    "list2 = [int(x) for x in list1]\n",
    "print(list2)\n",
    "'''\n",
    "#taking input as string and conver it into int or float using eval() function\n",
    "# this will take even float elements if all elements are same except string\n",
    "'''\n",
    "list1=input(\"Enter numbers only using space: \").split()\n",
    "print(list1)\n",
    "list2 = [eval(i) for i in list1]\n",
    "print(list2)\n",
    "'''"
   ]
  },
  {
   "cell_type": "code",
   "execution_count": null,
   "id": "d7886d68",
   "metadata": {},
   "outputs": [],
   "source": [
    "# Q4\n",
    "# Write a Python function to get the largest number,smallest num and sum of all from a list\n",
    "list1=input(\"Enter numbers only using space: \").split()\n",
    "print(list1)\n",
    "for i in range(0,len(list1)):\n",
    "    list1[i]=int(list1[i])\n",
    "print(list1)\n",
    "\n",
    "list1.sort()\n",
    "print(f\"sorted list: {list1}\")\n",
    "print(f\"Smallest number is : {list1[0]}\")\n",
    "print(f\"Largest number is : {list1[-1]}\")\n",
    "temp = 0\n",
    "for j in list1:\n",
    "    temp = j + temp\n",
    "print(f\"sum is : {temp}\")\n",
    "print(sum(list1))\n",
    "\n",
    "# keep even integars and remove odd int\n",
    "# l2=[]\n",
    "for k in list1:\n",
    "    if k % 2 != 0:\n",
    "        list1.remove(k)\n",
    "print(list1)"
   ]
  },
  {
   "cell_type": "code",
   "execution_count": null,
   "id": "28919eeb",
   "metadata": {},
   "outputs": [],
   "source": [
    "# Q4\n",
    "# How will you compare 2 lists?\n",
    "\n",
    "list1 = list(map(int,input(\"enter only numbers with space : \").strip().split()))\n",
    "list2 = list(map(int,input(\"enter only numbers with space : \").strip().split()))\n",
    "list1.sort()\n",
    "print(list1)\n",
    "list2.sort()\n",
    "print(list2)\n",
    "print(list1 == list2)\n",
    "list3 = input(\"Enter elements seperated with space: \").split()\n",
    "list4 = input(\"Enter elements seperated with space: \").split()\n",
    "print(list3 == list4)"
   ]
  },
  {
   "cell_type": "code",
   "execution_count": null,
   "id": "17921ac7",
   "metadata": {},
   "outputs": [],
   "source": [
    "# Q5\n",
    "# Write a Python program to count the number of strings where the string\n",
    "# length is 2 or more and the first and last character are same from a given\n",
    "# list of strings\n",
    "list1 = input(\"Enter elements seperated with space: \").split()\n",
    "l2=[]\n",
    "for i in list1:\n",
    "    if len(i) >= 2 and i[0] == i[-1]:\n",
    "        l2.append(i)\n",
    "print(l2)\n",
    "print(f\"Number of strings are {len(l2)}\")"
   ]
  },
  {
   "cell_type": "code",
   "execution_count": null,
   "id": "072e81ee",
   "metadata": {},
   "outputs": [],
   "source": [
    "# Q6\n",
    "# Write a Python program to remove duplicates from a list.\n",
    "list1 = input(\"Enter elements seperated with space: \").split()\n",
    "remove_duplicate = set(list1)\n",
    "list1 = list(remove_duplicate)\n",
    "# print(remove_duplicate)\n",
    "print(list1)"
   ]
  },
  {
   "cell_type": "code",
   "execution_count": null,
   "id": "5cf29425",
   "metadata": {},
   "outputs": [],
   "source": [
    "# Q7\n",
    "# Write a Python program to check a list is empty or not.\n",
    "list1 = input(\"Enter elements seperated with space: \").split()\n",
    "if list1 == []:\n",
    "    print(\"Empty\")\n",
    "else:\n",
    "    print(\"Not Empty\")"
   ]
  },
  {
   "cell_type": "code",
   "execution_count": null,
   "id": "ecf718ed",
   "metadata": {},
   "outputs": [],
   "source": [
    "# Q8\n",
    "# Write a Python function that takes two lists and returns true if they have\n",
    "# at least one common member.\n",
    "def check(list1,list2):\n",
    "    a = set(list1)\n",
    "    b = set(list2)\n",
    "    c = a.intersection(b)\n",
    "    print(c)\n",
    "    if a.intersection(b) == set():\n",
    "        return False\n",
    "    else:\n",
    "        return True\n",
    "list1 = input(\"Enter elements seperated with space: \").split()\n",
    "list2 = input(\"Enter elements seperated with space: \").split()\n",
    "check(list1,list2)"
   ]
  },
  {
   "cell_type": "code",
   "execution_count": null,
   "id": "34d1e8ed",
   "metadata": {},
   "outputs": [],
   "source": [
    "# Q9\n",
    "# Write a Python program to generate and print a list of first and last 5\n",
    "# elements where the values are square of numbers between 1 and 30.\n",
    "\n",
    "# list1 = list(map(int,input(\"enter only numbers within range 1 to 30 with space : \").strip().split()))\n",
    "l1=[]\n",
    "for i in range(1,31):\n",
    "    if i < 6 or i > 25:\n",
    "        i**=2\n",
    "        l1.append(i)\n",
    "    elif 5 < i < 26:\n",
    "        l1.append(i)\n",
    "print(l1)"
   ]
  },
  {
   "cell_type": "code",
   "execution_count": null,
   "id": "ccc8ea42",
   "metadata": {},
   "outputs": [],
   "source": [
    "# Q10\n",
    "# Write a Python function that takes a list and returns a new list with unique\n",
    "# elements of the first list.\n",
    "def uni_list(l):\n",
    "    x = set(l)\n",
    "    y = list(x)\n",
    "#     l1=[]\n",
    "#     for i in l:\n",
    "#         if i not in l1:\n",
    "#             l1.append(i)\n",
    "    return y\n",
    "list1 = list(map(int,input(\"enter only numbers with space : \").strip().split()))\n",
    "uni_list(list1)"
   ]
  },
  {
   "cell_type": "code",
   "execution_count": null,
   "id": "f5474b35",
   "metadata": {},
   "outputs": [],
   "source": [
    "# Q11\n",
    "# Write a Python program to convert a list of characters into a string.\n",
    "\n",
    "list1 = input(\"Enter elements seperated with space: \").split()\n",
    "s = ''\n",
    "for i in list1:\n",
    "    s = s + i\n",
    "print(type(s),s)"
   ]
  },
  {
   "cell_type": "code",
   "execution_count": null,
   "id": "ce0ccb8b",
   "metadata": {},
   "outputs": [],
   "source": [
    "# Q12\n",
    "# Write a Python program to select an item randomly from a list.\n",
    "# without using random module\n",
    "list1 = input(\"Enter elements seperated with space: \").split()\n",
    "s = set(list1)\n",
    "l1= []\n",
    "for i in s:\n",
    "    l1.append(i)\n",
    "    break\n",
    "print(f\"selected item is {l1}\")"
   ]
  },
  {
   "cell_type": "code",
   "execution_count": null,
   "id": "6ba574e0",
   "metadata": {},
   "outputs": [],
   "source": [
    "# Q13\n",
    "# Write a Python program to find the second smallest number in a list.\n",
    "\n",
    "list1 = list(map(int,input(\"enter only numbers with space : \").strip().split()))\n",
    "s = set(list1)\n",
    "list1 = list(s)\n",
    "a = sorted(list1)\n",
    "print(f\"second smallest number is {a[1]}\")"
   ]
  },
  {
   "cell_type": "code",
   "execution_count": null,
   "id": "4786370b",
   "metadata": {},
   "outputs": [],
   "source": [
    "# Q14\n",
    "# Write a Python program to get unique values from a list\n",
    "\n",
    "def unique(l):\n",
    "    l1=[]\n",
    "    for i in l:\n",
    "        if l.count(i)==1:\n",
    "            l1.append(i)\n",
    "    return l1\n",
    "list1 = list(map(int,input(\"enter only numbers with space : \").strip().split()))\n",
    "unique(list1)"
   ]
  },
  {
   "cell_type": "code",
   "execution_count": null,
   "id": "fcf4406b",
   "metadata": {},
   "outputs": [],
   "source": [
    "# Q15\n",
    "# Write a Python program to check whether a list contains a sub list\n",
    "\n",
    "# l1 = [1,2,[1,2]]\n",
    "l1 = [1]\n",
    "for i in l1:\n",
    "    if type(i) == list:\n",
    "        print(\"Yes\")\n",
    "    else:\n",
    "        print(\"No\")\n",
    "list1 = list(map(int,input(\"Enter only number with space : \").strip().split()))\n",
    "print(list1)\n",
    "sublist = list(map(int,input(\"Sublist : Enter only number with space : \").strip().split()))\n",
    "print(sublist)\n",
    "count = 0\n",
    "res = False\n",
    "for i in sublist:\n",
    "    if i in list1:\n",
    "        count += 1\n",
    "if len(sublist)==count:\n",
    "    res = True\n",
    "print(f\"The list has sublist - {res}\")"
   ]
  },
  {
   "cell_type": "code",
   "execution_count": 1,
   "id": "f2b12217",
   "metadata": {
    "tags": [
     "Needs",
     "Checking"
    ]
   },
   "outputs": [
    {
     "name": "stdout",
     "output_type": "stream",
     "text": [
      "1 2 3\n",
      "Enter elements with space : 1 2 3\n",
      "['1', '2', '3']\n",
      "{'var0': 0, 'var1': 1, 'var2': 2}\n",
      "{'var0': '1', 'var1': '2', 'var2': '3'}\n"
     ]
    }
   ],
   "source": [
    "# Q16\n",
    "# Write a Python program to split a list into different variables.\n",
    "\n",
    "# unpacking\n",
    "l1,l2,l3=[1,2,3]\n",
    "print(l1,l2,l3)\n",
    "\n",
    "#trying dynamic with making dict \n",
    "list1 = input(\"Enter elements with space : \").split()\n",
    "print(list1)\n",
    "d = {}\n",
    "for i in range(len(list1)):\n",
    "    key = str(\"var\"+str(i))\n",
    "    d[key]=i\n",
    "print(d)\n",
    "for k,v in d.items():\n",
    "    d[k]=list1[v]\n",
    "print(d)\n",
    "# enu_list=list(enumerate(list1,1))\n",
    "# print(enu_list)\n",
    "# print(dict(enu_list))\n",
    "\n"
   ]
  },
  {
   "cell_type": "code",
   "execution_count": null,
   "id": "ec08d5e7",
   "metadata": {},
   "outputs": [],
   "source": [
    "# Q17\n",
    "# What is tuple? Difference between list and tuple.\n",
    "'''\n",
    "syntax: : (a,b,c) with single ele : (a,)\n",
    "can take all datatypes\n",
    "immutable,ordered,indexed\n",
    "\n",
    "list is mutable\n",
    "'''"
   ]
  },
  {
   "cell_type": "code",
   "execution_count": null,
   "id": "c8f20590",
   "metadata": {},
   "outputs": [],
   "source": [
    "# Q18\n",
    "# Write a Python program to create a tuple with different data types.\n",
    "\n",
    "tup1 = (\"mit\",[\"mit\",1,\"desai\"],1,2,(1,2),{1,2},{1:2},1.2)\n",
    "print(tup1)"
   ]
  },
  {
   "cell_type": "code",
   "execution_count": null,
   "id": "646800dd",
   "metadata": {},
   "outputs": [],
   "source": [
    "# Q19\n",
    "# Write a Python program to create a tuple with numbers.\n",
    "\n",
    "tup1 = tuple(map(int,input(\"Enter Numbers with space:\").strip().split()))\n",
    "print(tup1)"
   ]
  },
  {
   "cell_type": "code",
   "execution_count": 4,
   "id": "49722f1f",
   "metadata": {},
   "outputs": [
    {
     "name": "stdout",
     "output_type": "stream",
     "text": [
      "Enter eles with space:mit desai\n",
      "('mit', 'desai')\n",
      "mitdesai\n"
     ]
    }
   ],
   "source": [
    "# Q20\n",
    "# Write a Python program to convert a tuple to a string.\n",
    "\n",
    "tup1 = tuple(map(str,input(\"Enter eles with space:\").strip().split()))\n",
    "print(tup1)\n",
    "str1 = ''.join(tup1)\n",
    "print(str1)"
   ]
  },
  {
   "cell_type": "code",
   "execution_count": 3,
   "id": "5ebcde3c",
   "metadata": {},
   "outputs": [
    {
     "name": "stdout",
     "output_type": "stream",
     "text": [
      "Enter eles with space:mit desai\n",
      "enter element : desai\n",
      "True\n"
     ]
    }
   ],
   "source": [
    "# Q21\n",
    "# Write a Python program to check whether an element exists within a\n",
    "# tuple\n",
    "\n",
    "tup1 = tuple(map(str,input(\"Enter eles with space:\").strip().split()))\n",
    "str1 = input(\"enter element : \")\n",
    "res = str1 in tup1\n",
    "print(res)"
   ]
  },
  {
   "cell_type": "code",
   "execution_count": null,
   "id": "be7b22db",
   "metadata": {},
   "outputs": [],
   "source": [
    "# Q22\n",
    "# Write a Python program to find the length of a tuple.\n",
    "tup1 = tuple(map(str,input(\"Enter eles with space:\").strip().split()))\n",
    "len1 = len(tup1)\n",
    "print(len1)"
   ]
  },
  {
   "cell_type": "code",
   "execution_count": null,
   "id": "3fd09a51",
   "metadata": {},
   "outputs": [],
   "source": [
    "# Q23\n",
    "# Write a Python program to convert a list to a tuple.\n",
    "\n",
    "list1 = list(map(str,input(\"Enter eles with space:\").strip().split()))\n",
    "print(list1)\n",
    "tup1=tuple(list1)\n",
    "print(tup1)"
   ]
  },
  {
   "cell_type": "code",
   "execution_count": null,
   "id": "0dd153b8",
   "metadata": {},
   "outputs": [],
   "source": [
    "# Q24\n",
    "# Write a Python program to reverse a tuple.\n",
    "\n",
    "tup1 = tuple(map(str,input(\"Enter eles with space:\").strip().split()))\n",
    "print(tup1)\n",
    "list1=(list(tup1))\n",
    "print(list1)\n",
    "list1.reverse()\n",
    "print(list1)\n",
    "tup1 = tuple(list1)\n",
    "print(tup1)"
   ]
  },
  {
   "cell_type": "code",
   "execution_count": null,
   "id": "c8f32d8c",
   "metadata": {},
   "outputs": [],
   "source": [
    "# Q25\n",
    "# Write a Python program to replace last value of tuples in a list.\n",
    "\n",
    "list1=[1,2,(1,2,\"mit\"),(1,2),[1,2]]\n",
    "print(list1)\n",
    "\n",
    "'''With typecasting'''\n",
    "for i in list1:\n",
    "    if type(i)==tuple:\n",
    "        replace = list(i)\n",
    "#         print(replace)\n",
    "        replace[-1]=\"desai\"\n",
    "#         print(f\"replaced : {replace}\")\n",
    "        a = tuple(replace)\n",
    "#         print(f\"converted : {a}\")\n",
    "        b = list1.index(i)\n",
    "        list1[b]=a\n",
    "print(list1)\n",
    "\n",
    "'''With Slicing'''\n",
    "# for t in list1:\n",
    "#     if type(t)==tuple:\n",
    "#         a = t[:-1]+(\"m\",)\n",
    "#         print(a)\n",
    "#         b=list1.index(t)\n",
    "#         list1[b]=a\n",
    "#         print(list1)"
   ]
  },
  {
   "cell_type": "code",
   "execution_count": null,
   "id": "86e179ec",
   "metadata": {},
   "outputs": [],
   "source": [
    "# Q26\n",
    "# Write a Python program to find the repeated items of a tuple\n",
    "\n",
    "tup1 = tuple(map(str,input(\"Enter eles with space:\").strip().split()))\n",
    "print(tup1)\n",
    "already_passed=set()\n",
    "for i in tup1:\n",
    "    if i not in already_passed:\n",
    "        already_passed.add(i)\n",
    "#         print(already_passed)\n",
    "        a = tup1.count(i)\n",
    "        if a>1:\n",
    "            print(f\"{i} is repeating {a} times\")"
   ]
  },
  {
   "cell_type": "code",
   "execution_count": null,
   "id": "2ef39980",
   "metadata": {},
   "outputs": [],
   "source": [
    "# Q27\n",
    "# Write a Python program to remove an empty tuple(s) from a list of tuples.\n",
    "def remove_empty_tup(li):\n",
    "    if li == ():\n",
    "        return False\n",
    "    else:\n",
    "        return True\n",
    "\n",
    "list1 = [1,2,(),(),(1,2,3),()]\n",
    "a= list(filter(remove_empty_tup,list1))\n",
    "print(list1)\n",
    "print(a)\n",
    "# print(list1)\n",
    "# for i in list1:\n",
    "#     if i == ():\n",
    "#         list1.remove(i)\n",
    "#         print(list1)"
   ]
  },
  {
   "cell_type": "code",
   "execution_count": null,
   "id": "8287cfea",
   "metadata": {
    "tags": [
     "what",
     "is",
     "*",
     "inzip",
     "function"
    ]
   },
   "outputs": [],
   "source": [
    "# Q 28 \n",
    "# Write a Python program to unzip a list of tuples into individual lists.\n",
    "\n",
    "list1=input(\"Please enter elements with space: \").split()\n",
    "l1=[]\n",
    "for i in enumerate(list1,1):\n",
    "    l1.append(i)\n",
    "print(l1)\n",
    "res = list(zip(*l1))\n",
    "print(res)"
   ]
  },
  {
   "cell_type": "code",
   "execution_count": 5,
   "id": "6e562d9e",
   "metadata": {},
   "outputs": [
    {
     "name": "stdout",
     "output_type": "stream",
     "text": [
      "Please enter elements with space: 1 2 3\n",
      "[(1, '1'), (2, '2'), (3, '3')]\n",
      "{1: '1', 2: '2', 3: '3'}\n"
     ]
    }
   ],
   "source": [
    "# Q 29\n",
    "# Write a Python program to convert a list of tuples into a dictionary\n",
    "def convert(tup,di):\n",
    "    di = dict(tup)\n",
    "    return di\n",
    "\n",
    "list1=input(\"Please enter elements with space: \").split()\n",
    "l1=[]\n",
    "d1={}\n",
    "for i in enumerate(list1,1):\n",
    "    l1.append(i)\n",
    "print(l1)\n",
    "print(convert(l1,d1))"
   ]
  },
  {
   "cell_type": "code",
   "execution_count": null,
   "id": "35c46f8d",
   "metadata": {},
   "outputs": [],
   "source": [
    "# q 30\n",
    "# How will you create a dictionary using tuples in python?\n",
    "\n",
    "tup1 = tuple(map(str,input(\"Enter eles with space:\").strip().split()))\n",
    "tup2 = tuple(map(str,input(\"Enter eles with space:\").strip().split()))\n",
    "if len(tup1) == len(tup2):\n",
    "    res = dict(zip(tup1,tup2))\n",
    "    print(res)"
   ]
  },
  {
   "cell_type": "code",
   "execution_count": 6,
   "id": "946797eb",
   "metadata": {},
   "outputs": [
    {
     "name": "stdout",
     "output_type": "stream",
     "text": [
      "enter len value of dict:3\n",
      "Enter Key:mit\n",
      "Enter Value in number:1\n",
      "Enter Key:kirtidev\n",
      "Enter Value in number:3\n",
      "Enter Key:desai\n",
      "Enter Value in number:2\n",
      "{'mit': 1, 'kirtidev': 3, 'desai': 2}\n",
      "{'mit': 1, 'desai': 2, 'kirtidev': 3}\n"
     ]
    }
   ],
   "source": [
    "# Q 31\n",
    "# Write a Python script to sort (ascending and descending) a dictionary by\n",
    "# value.\n",
    "\n",
    "n = int(input(\"enter len value of dict:\"))\n",
    "d = {}\n",
    "for i in range(n):\n",
    "    keys = input(\"Enter Key:\")\n",
    "    values = int(input(\"Enter Value in number:\"))\n",
    "    d[keys] = values\n",
    "print(d)\n",
    "a=dict(sorted(d.items(), key=lambda item: item[1]))\n",
    "print(a)"
   ]
  },
  {
   "cell_type": "code",
   "execution_count": null,
   "id": "e6f7ae86",
   "metadata": {},
   "outputs": [],
   "source": [
    "# Q32\n",
    "# Write a Python script to concatenate following dictionaries to create a new one\n",
    "\n",
    "d1={\"mit\":1,\"desai\":2}\n",
    "d2={\"m\":3,\"d\":4,\"mit\":8}\n",
    "d3=d1\n",
    "d3.update(d2)\n",
    "print(d3)"
   ]
  },
  {
   "cell_type": "code",
   "execution_count": null,
   "id": "5e6fe910",
   "metadata": {},
   "outputs": [],
   "source": [
    "# Q33\n",
    "# Write a Python script to check if a given key already exists in a dictionary.\n",
    "\n",
    "n = int(input(\"enter len value of dict:\"))\n",
    "d = {}\n",
    "for i in range(n):\n",
    "    keys = input(\"Enter Key:\")\n",
    "    if keys not in d:\n",
    "        pass\n",
    "    else:\n",
    "        print(\"Key already exists. Missed try\")\n",
    "        continue\n",
    "    values = int(input(\"Enter Value in number:\"))\n",
    "    d[keys] = values\n",
    "print(d)"
   ]
  },
  {
   "cell_type": "code",
   "execution_count": null,
   "id": "e5880772",
   "metadata": {
    "tags": [
     "Not",
     "understood",
     "the",
     "question"
    ]
   },
   "outputs": [],
   "source": [
    "# Q34\n",
    "# How Do You Traverse Through A Dictionary Object In Python?\n",
    "\n"
   ]
  },
  {
   "cell_type": "code",
   "execution_count": null,
   "id": "91febb2d",
   "metadata": {},
   "outputs": [],
   "source": [
    "# Q35\n",
    "# How Do You Check The Presence Of A Key In A Dictionary?\n",
    "\n",
    "d1={\"mit\":1,\"desai\":2}\n",
    "d2={\"m\":3,\"d\":4,\"mit\":8}\n",
    "y = d1.get(input(\"Plese enter to check if key exists or not: \"))\n",
    "if y == 1:\n",
    "    print(\"Key Exists\")\n",
    "else:\n",
    "    print(\"Key Doesnt exists\")"
   ]
  },
  {
   "cell_type": "code",
   "execution_count": null,
   "id": "d0d0d736",
   "metadata": {},
   "outputs": [],
   "source": [
    "# Q36\n",
    "# Write a Python script to print a dictionary where the keys are numbers\n",
    "# between 1 and 15.\n",
    "\n",
    "\n",
    "n = int(input(\"enter len value of dict:\"))\n",
    "d = {}\n",
    "for i in range(n):\n",
    "    keys = int(input(\"Enter Key only integars :\"))\n",
    "    if keys not in d:\n",
    "        pass\n",
    "    else:\n",
    "        print(\"Key already exists. Missed try\")\n",
    "        continue\n",
    "    values = (input(\"Enter Value :\"))\n",
    "    d[keys] = values\n",
    "print(d)"
   ]
  },
  {
   "cell_type": "code",
   "execution_count": null,
   "id": "7673ba2b",
   "metadata": {},
   "outputs": [],
   "source": [
    "# Q37\n",
    "# Write a Python program to check multiple keys exists in a dictionary\n",
    "\n",
    "d1={\"mit\":1,\"desai\":2}\n",
    "d2={\"m\":3,\"d\":4,\"mit\":8}\n",
    "count = 0\n",
    "for i in d1:\n",
    "    count +=1\n",
    "if count > 1:\n",
    "    print(\"Mutiple Keys\")\n",
    "else:\n",
    "    print(\"Keys are less than 2\")"
   ]
  },
  {
   "cell_type": "code",
   "execution_count": null,
   "id": "46369f5a",
   "metadata": {},
   "outputs": [],
   "source": [
    "# Q38\n",
    "# Write a Python script to merge two Python dictionaries\n",
    "d1={\"mit\":1,\"desai\":2}\n",
    "d2={\"m\":3,\"d\":4,\"mit\":8}\n",
    "d3=d1\n",
    "d3.update(d2)\n",
    "print(d3)"
   ]
  },
  {
   "cell_type": "code",
   "execution_count": null,
   "id": "2db9f226",
   "metadata": {},
   "outputs": [],
   "source": [
    "# Q39\n",
    "# Write a Python program to map two lists into a dictionary\n",
    "\n",
    "a=['x','y','z']\n",
    "b=[1,2,3]\n",
    "c=dict(map(lambda i,j:(i,j),a,b))\n",
    "print(c)"
   ]
  },
  {
   "cell_type": "code",
   "execution_count": null,
   "id": "1226ea6c",
   "metadata": {},
   "outputs": [],
   "source": [
    "# Q40\n",
    "# Write a Python program to combine two dictionary adding values for common keys.\n",
    "d1 = {'a': 100, 'b': 200, 'c':300}\n",
    "d2 = {'a': 300, 'b': 200, 'd':400}\n",
    "#  Sample output: Counter ({'a': 400, 'b': 400,’d’: 400, 'c': 300}).\n",
    "\n",
    "key1=list(d1.keys())\n",
    "key2=list(d2.keys())\n",
    "keys=key1+key2\n",
    "master_keys=set(keys)\n",
    "print(master_keys)\n",
    "result = {}\n",
    "for key in master_keys:\n",
    "    if key in d1: \n",
    "        result.setdefault(key, []).append(d1[key])\n",
    "    if key in d2: \n",
    "        result.setdefault(key, []).append(d2[key])\n",
    "\n",
    "print(result)\n",
    "for i in result:\n",
    "    res_sum = sum(result[i])\n",
    "    result[i]=res_sum\n",
    "#     print(result)\n",
    "a=dict(sorted(result.items(), key=lambda item: item[1],reverse = 1))\n",
    "print(a)"
   ]
  },
  {
   "cell_type": "code",
   "execution_count": 7,
   "id": "a529e33c",
   "metadata": {},
   "outputs": [
    {
     "name": "stdout",
     "output_type": "stream",
     "text": [
      "[100, 200, 200]\n"
     ]
    },
    {
     "data": {
      "text/plain": [
       "[100]"
      ]
     },
     "execution_count": 7,
     "metadata": {},
     "output_type": "execute_result"
    }
   ],
   "source": [
    "# Q41\n",
    "# Write a Python program to print all unique values in a dictionary.\n",
    "def unique(l):\n",
    "    l1=[]\n",
    "    for i in l:\n",
    "        if l.count(i)==1:\n",
    "            l1.append(i)\n",
    "    return l1\n",
    "\n",
    "d1 = {'a': 100, 'b': 200, 'c':200}\n",
    "l1=[]\n",
    "for i in d1:\n",
    "    l1.append(d1[i])\n",
    "print(l1)\n",
    "unique(l1)"
   ]
  },
  {
   "cell_type": "code",
   "execution_count": null,
   "id": "0066bfcb",
   "metadata": {},
   "outputs": [],
   "source": [
    "# Q42\n",
    "# Why Do You Use the Zip () Method in Python?\n",
    "\n",
    "'''Python zip() method takes iterable or containers and returns a single iterator object, \n",
    "having mapped values from all the containers. \n",
    "\n",
    "It is used to map the similar index of multiple containers\n",
    "so that they can be used just using a single entity. '''\n",
    "\n",
    "'''\n",
    "Syntax :  zip(*iterators) \n",
    "\n",
    "Parameters : Python iterables or containers ( list, string etc ) \n",
    "Return Value : Returns a single iterator object, having mapped values from all the \n",
    "containers.\n",
    "'''"
   ]
  },
  {
   "cell_type": "code",
   "execution_count": null,
   "id": "520b04a9",
   "metadata": {},
   "outputs": [],
   "source": [
    "# Q43\n",
    "# Write a Python program to create and display all combinations of letters,\n",
    "# selecting each letter from a different key in a dictionary.\n",
    "d1 = {'1': ['a','b'], '2': ['c','d']}\n",
    "# o Expected Output:\n",
    "# o ac ad bc bd\n",
    "\n",
    "# res = []\n",
    "# for i in d1:\n",
    "#     res.append(d1[i])\n",
    "#     print(res)\n",
    "l1 = list(d1.values())\n",
    "print(l1)\n",
    "for i in l1[0]:\n",
    "    for j in l1[1]:\n",
    "        print(i+j)"
   ]
  },
  {
   "cell_type": "code",
   "execution_count": null,
   "id": "bc05aff4",
   "metadata": {},
   "outputs": [],
   "source": [
    "# Q44\n",
    "# Write a Python program to find the highest 3 values in a dictionary\n",
    "\n",
    "d1 = {'a': 100, 'b': 200, 'c':300 , 'd':400 , 'e': 500}\n",
    "l1 = list(d1.values())\n",
    "print(l1)\n",
    "l1.sort(reverse=True)\n",
    "print(l1)\n",
    "print(f\"Highest 3 values are {l1[0],l1[1],l1[2]}\")"
   ]
  },
  {
   "cell_type": "code",
   "execution_count": 12,
   "id": "ddc95b18",
   "metadata": {
    "tags": [
     "HELPPPPPPPPPPPP"
    ]
   },
   "outputs": [
    {
     "ename": "AttributeError",
     "evalue": "'str' object has no attribute 'values'",
     "output_type": "error",
     "traceback": [
      "\u001b[1;31m---------------------------------------------------------------------------\u001b[0m",
      "\u001b[1;31mAttributeError\u001b[0m                            Traceback (most recent call last)",
      "\u001b[1;32m~\\AppData\\Local\\Temp\\ipykernel_28736\\2956760538.py\u001b[0m in \u001b[0;36m<module>\u001b[1;34m\u001b[0m\n\u001b[0;32m      5\u001b[0m \u001b[0ml1\u001b[0m\u001b[1;33m=\u001b[0m\u001b[1;33m[\u001b[0m\u001b[1;33m]\u001b[0m\u001b[1;33m\u001b[0m\u001b[1;33m\u001b[0m\u001b[0m\n\u001b[0;32m      6\u001b[0m \u001b[1;32mfor\u001b[0m \u001b[0mj\u001b[0m \u001b[1;32min\u001b[0m \u001b[0md1\u001b[0m\u001b[1;33m:\u001b[0m\u001b[1;33m\u001b[0m\u001b[1;33m\u001b[0m\u001b[0m\n\u001b[1;32m----> 7\u001b[1;33m     \u001b[0mkey\u001b[0m \u001b[1;33m=\u001b[0m \u001b[0mlist\u001b[0m\u001b[1;33m(\u001b[0m\u001b[0mj\u001b[0m\u001b[1;33m.\u001b[0m\u001b[0mvalues\u001b[0m\u001b[1;33m(\u001b[0m\u001b[1;33m)\u001b[0m\u001b[1;33m)\u001b[0m\u001b[1;33m\u001b[0m\u001b[1;33m\u001b[0m\u001b[0m\n\u001b[0m\u001b[0;32m      8\u001b[0m     \u001b[0ml1\u001b[0m\u001b[1;33m.\u001b[0m\u001b[0mappend\u001b[0m\u001b[1;33m(\u001b[0m\u001b[0mkey\u001b[0m\u001b[1;33m)\u001b[0m\u001b[1;33m\u001b[0m\u001b[1;33m\u001b[0m\u001b[0m\n\u001b[0;32m      9\u001b[0m \u001b[0mprint\u001b[0m\u001b[1;33m(\u001b[0m\u001b[0ml1\u001b[0m\u001b[1;33m)\u001b[0m\u001b[1;33m\u001b[0m\u001b[1;33m\u001b[0m\u001b[0m\n",
      "\u001b[1;31mAttributeError\u001b[0m: 'str' object has no attribute 'values'"
     ]
    }
   ],
   "source": [
    "# Q45\n",
    "# Write a Python program to combine values in python list of dictionaries.\n",
    "d1 : [{'item': 'item1', 'amount': 400}, {'item': 'item2', 'amount':300},{'item': 'item1', 'amount': 750}]\n",
    "# o Expected Output: Counter ({'item1': 1150, 'item2': 300})\n",
    "l1=[]\n",
    "for j in d1:\n",
    "    key = list(j.values())\n",
    "    l1.append(key)\n",
    "print(l1)\n",
    "#d2 = dict(l1)\n",
    "#print(d2)\n",
    "result=[]\n",
    "\n",
    "l2=[]\n",
    "for k in range(len(l1)):\n",
    "    l2.append(l1[k][0])\n",
    "print(l2)\n",
    "count = 0\n",
    "for i in l1:\n",
    "    if i[0].count != 1:\n",
    "        count += i[1]\n",
    "    i[1]=count\n",
    "s = dict(l1)\n",
    "print(s)\n",
    "        \n",
    "        \n"
   ]
  },
  {
   "cell_type": "code",
   "execution_count": null,
   "id": "84901639",
   "metadata": {
    "tags": [
     "help"
    ]
   },
   "outputs": [],
   "source": [
    "# Q46\n",
    "# Write a Python program to create a dictionary from a string.\n",
    "# o Note: Track the count of the letters from the string. Sample string:\n",
    "# 'w3resource'\n",
    "# o Expected output: {'3': 1,’s’: 1, 'r': 2, 'u': 1, 'w': 1, 'c': 1, 'e': 2, 'o': 1}"
   ]
  },
  {
   "cell_type": "code",
   "execution_count": null,
   "id": "0863e0f9",
   "metadata": {},
   "outputs": [],
   "source": [
    "# Q47\n",
    "# Write a Python function to calculate the factorial of a number (a nonnegative integer)\n",
    "\n",
    "def factorial(n):\n",
    "    if n > 0:\n",
    "        if n == 1:\n",
    "            return 1\n",
    "        else:\n",
    "            return n * factorial(n-1)\n",
    "n = int(input(\"Please enter a non nagative Integar: \"))\n",
    "factorial(n)"
   ]
  },
  {
   "cell_type": "code",
   "execution_count": null,
   "id": "57ca2ff9",
   "metadata": {},
   "outputs": [],
   "source": [
    "# Q48\n",
    "# Write a Python function to check whether a number is in a given range\n",
    "def rangecheck(num,a,b):\n",
    "    if num in range(a,b+1):\n",
    "        return True\n",
    "    else:\n",
    "        return False\n",
    "\n",
    "n = 50\n",
    "i = int(input(\"Enter lower range: \"))\n",
    "j = int(input(\"Enter Higher range: \"))\n",
    "if rangecheck(n,i,j):\n",
    "    print(\"In Range\")\n",
    "else:\n",
    "    print(\"Out of Range\")"
   ]
  },
  {
   "cell_type": "code",
   "execution_count": null,
   "id": "f8328958",
   "metadata": {},
   "outputs": [],
   "source": [
    "# Q49\n",
    "# Write a Python function to check whether a number is perfect or not.\n",
    "\n",
    "def calculate_factors(N):\n",
    "    factors = []\n",
    "    for i in range(1, N + 1):\n",
    "        if N % i == 0:\n",
    "            factors.append(i)\n",
    "    return factors\n",
    "\n",
    "\n",
    "def check_perfect_number(N):\n",
    "    factors = calculate_factors(N)\n",
    "    sumOfFactors = sum(factors)\n",
    "    if sumOfFactors // 2 == N:\n",
    "        return True\n",
    "    else:\n",
    "        return False\n",
    "\n",
    "n = int(input(\"Enter a number: \"))\n",
    "check_perfect_number(n)"
   ]
  },
  {
   "cell_type": "code",
   "execution_count": null,
   "id": "81a93147",
   "metadata": {},
   "outputs": [],
   "source": [
    "# Q50\n",
    "# Write a Python function that checks whether a passed string is palindrome or not\n",
    "def check_pal(a):\n",
    "    b=\"\"\n",
    "    for i in a:\n",
    "        b=b+i\n",
    "#         print(b)\n",
    "    if a == b:\n",
    "        return True\n",
    "    else:\n",
    "        return False\n",
    "\n",
    "str1 = input(\"Please enter a word: \")\n",
    "check_pal(str1)"
   ]
  },
  {
   "cell_type": "code",
   "execution_count": null,
   "id": "097baeb6",
   "metadata": {
    "tags": [
     "NO",
     "IDEA"
    ]
   },
   "outputs": [],
   "source": [
    "# Q51\n",
    "# How do you perform pattern matching in Python? Explain\n"
   ]
  },
  {
   "cell_type": "code",
   "execution_count": null,
   "id": "eb68158c",
   "metadata": {},
   "outputs": [],
   "source": [
    "# Q52\n",
    "# What is lambda function in python? What we call a function which is\n",
    "# incomplete version of a function?\n",
    "\n",
    "'''\n",
    "A lambda function is a small anonymous function.\n",
    "\n",
    "A lambda function can take any number of arguments, but can only have one expression.\n",
    "\n",
    "Syntax\n",
    "lambda arguments : expression\n",
    "\n",
    "Why Use Lambda Functions?\n",
    "The power of lambda is better shown when you use them as an anonymous function inside another function.\n",
    "\n",
    "Say you have a function definition that takes one argument, and that argument will be multiplied with an unknown number:\n",
    "\n",
    "def myfunc(n):\n",
    "  return lambda a : a * n\n",
    "'''"
   ]
  },
  {
   "cell_type": "code",
   "execution_count": null,
   "id": "c50a743c",
   "metadata": {},
   "outputs": [],
   "source": [
    "# Q53\n",
    "# How Many Basic Types Of Functions Are Available In Python?\n",
    "\n",
    "# Function Types\n",
    "'''\n",
    "1. User Defined\n",
    "2. Built In (already defined)\n",
    "abs()\tReturns the absolute value of a number\n",
    "all()\tReturns True if all items in an iterable object are true\n",
    "any()\tReturns True if any item in an iterable object is true\n",
    "ascii()\tReturns a readable version of an object. Replaces none-ascii characters with escape character\n",
    "bin()\tReturns the binary version of a number\n",
    "bool()\tReturns the boolean value of the specified object\n",
    "bytearray()\tReturns an array of bytes\n",
    "bytes()\tReturns a bytes object\n",
    "callable()\tReturns True if the specified object is callable, otherwise False\n",
    "chr()\tReturns a character from the specified Unicode code.\n",
    "classmethod()\tConverts a method into a class method\n",
    "compile()\tReturns the specified source as an object, ready to be executed\n",
    "complex()\tReturns a complex number\n",
    "delattr()\tDeletes the specified attribute (property or method) from the specified object\n",
    "dict()\tReturns a dictionary (Array)\n",
    "dir()\tReturns a list of the specified object's properties and methods\n",
    "divmod()\tReturns the quotient and the remainder when argument1 is divided by argument2\n",
    "enumerate()\tTakes a collection (e.g. a tuple) and returns it as an enumerate object\n",
    "eval()\tEvaluates and executes an expression\n",
    "exec()\tExecutes the specified code (or object)\n",
    "filter()\tUse a filter function to exclude items in an iterable object\n",
    "float()\tReturns a floating point number\n",
    "format()\tFormats a specified value\n",
    "frozenset()\tReturns a frozenset object\n",
    "getattr()\tReturns the value of the specified attribute (property or method)\n",
    "globals()\tReturns the current global symbol table as a dictionary\n",
    "hasattr()\tReturns True if the specified object has the specified attribute (property/method)\n",
    "hash()\tReturns the hash value of a specified object\n",
    "help()\tExecutes the built-in help system\n",
    "hex()\tConverts a number into a hexadecimal value\n",
    "id()\tReturns the id of an object\n",
    "input()\tAllowing user input\n",
    "int()\tReturns an integer number\n",
    "isinstance()\tReturns True if a specified object is an instance of a specified object\n",
    "issubclass()\tReturns True if a specified class is a subclass of a specified object\n",
    "iter()\tReturns an iterator object\n",
    "len()\tReturns the length of an object\n",
    "list()\tReturns a list\n",
    "locals()\tReturns an updated dictionary of the current local symbol table\n",
    "map()\tReturns the specified iterator with the specified function applied to each item\n",
    "max()\tReturns the largest item in an iterable\n",
    "memoryview()\tReturns a memory view object\n",
    "min()\tReturns the smallest item in an iterable\n",
    "next()\tReturns the next item in an iterable\n",
    "object()\tReturns a new object\n",
    "oct()\tConverts a number into an octal\n",
    "open()\tOpens a file and returns a file object\n",
    "ord()\tConvert an integer representing the Unicode of the specified character\n",
    "pow()\tReturns the value of x to the power of y\n",
    "print()\tPrints to the standard output device\n",
    "property()\tGets, sets, deletes a property\n",
    "range()\tReturns a sequence of numbers, starting from 0 and increments by 1 (by default)\n",
    "repr()\tReturns a readable version of an object\n",
    "reversed()\tReturns a reversed iterator\n",
    "round()\tRounds a numbers\n",
    "set()\tReturns a new set object\n",
    "setattr()\tSets an attribute (property/method) of an object\n",
    "slice()\tReturns a slice object\n",
    "sorted()\tReturns a sorted list\n",
    "staticmethod()\tConverts a method into a static method\n",
    "str()\tReturns a string object\n",
    "sum()\tSums the items of an iterator\n",
    "super()\tReturns an object that represents the parent class\n",
    "tuple()\tReturns a tuple\n",
    "type()\tReturns the type of an object\n",
    "vars()\tReturns the __dict__ property of an object\n",
    "zip()\tReturns an iterator, from two or more iterators\n",
    "\n",
    "3. Anonymous function / lambda function'''"
   ]
  },
  {
   "cell_type": "code",
   "execution_count": null,
   "id": "e60af53e",
   "metadata": {},
   "outputs": [],
   "source": [
    "# Q54\n",
    "# How can you pick a random item from a list or tuple?\n",
    "import random\n",
    "list1 = list(map(int,input(\"Enter numbers: \").strip().split()))\n",
    "r = random.choice(list1)\n",
    "print(r)"
   ]
  },
  {
   "cell_type": "code",
   "execution_count": null,
   "id": "afd131dc",
   "metadata": {},
   "outputs": [],
   "source": [
    "# Q55\n",
    "# How can you pick a random item from a range?\n",
    "\n",
    "import random\n",
    "min_range=int(input(\"Enter a lower range: \"))\n",
    "max_range=int(input(\"Enter a Higher Range: \"))\n",
    "x = random.randrange(min_range,max_range)\n",
    "# y = random.randrange(min_range,max_range,2) for alternative odd number\n",
    "print(x,y)"
   ]
  },
  {
   "cell_type": "code",
   "execution_count": null,
   "id": "0757aa59",
   "metadata": {},
   "outputs": [],
   "source": [
    "# Q56\n",
    "# How can you get a random number in python?\n",
    "\n",
    "import random\n",
    "x = random.random()\n",
    "y = random.randint(1,1000)\n",
    "print(x)\n",
    "print(y)"
   ]
  },
  {
   "cell_type": "code",
   "execution_count": null,
   "id": "d477bbe4",
   "metadata": {},
   "outputs": [],
   "source": [
    "# Q57\n",
    "# How will you set the starting value in generating random numbers?\n",
    "\n",
    "import random\n",
    "random.seed(5)\n",
    "random.random()"
   ]
  },
  {
   "cell_type": "code",
   "execution_count": null,
   "id": "a655c8db",
   "metadata": {},
   "outputs": [],
   "source": [
    "# Q58\n",
    "# How will you randomizes the items of a list in place?\n",
    "import random\n",
    "list1 = input(\"Enter eles with space : \").split()\n",
    "print(list1)\n",
    "random.shuffle(list1)\n",
    "print(list1)"
   ]
  },
  {
   "cell_type": "code",
   "execution_count": null,
   "id": "909891b4",
   "metadata": {
    "tags": [
     "??"
    ]
   },
   "outputs": [],
   "source": [
    "# Q59\n",
    "# Write a Python program to read a random line from a file.\n"
   ]
  },
  {
   "cell_type": "code",
   "execution_count": null,
   "id": "62f4993f",
   "metadata": {},
   "outputs": [],
   "source": [
    "# Q60\n",
    "# Write a Python program to convert degree to radian\n",
    "\n",
    "a = int(input(\"Enter degree: \"))\n",
    "rad = 0.01745329 * a\n",
    "print(rad)"
   ]
  },
  {
   "cell_type": "code",
   "execution_count": null,
   "id": "124567e3",
   "metadata": {},
   "outputs": [],
   "source": [
    "# Q61\n",
    "#  Write a Python program to calculate the area of a trapezoid\n",
    "def t_area(a,b,h):\n",
    "    area = 0.5 * (a + b) * h\n",
    "    return area\n",
    "\n",
    "a = float(input(\"Enter len of side a : \"))\n",
    "b = float(input(\"Enter len of side b : \"))\n",
    "h = float(input(\"Enter height: \"))\n",
    "t_area(a,b,h)"
   ]
  },
  {
   "cell_type": "code",
   "execution_count": null,
   "id": "76d95178",
   "metadata": {
    "tags": [
     "sinx",
     "cosx",
     "how",
     "to",
     "write"
    ]
   },
   "outputs": [],
   "source": [
    "# Q62\n",
    "# Write a Python program to calculate the area of a parallelogram\n"
   ]
  },
  {
   "cell_type": "code",
   "execution_count": null,
   "id": "0a6ced2c",
   "metadata": {},
   "outputs": [],
   "source": [
    "# Q63\n",
    "# Write a Python program to calculate surface volume and area of a cylinder\n",
    "def c_vol(r,h):\n",
    "    v = pi * r * r * h\n",
    "    return v\n",
    "\n",
    "def c_surface_a(r,h):\n",
    "    a = 2 * pi * r * h\n",
    "    b = 2 * pi * r * r\n",
    "    c = a + b\n",
    "    return c\n",
    "pi = 3.141592653589793238462643\n",
    "r = 14\n",
    "h = 20\n",
    "print(c_vol(r,h))\n",
    "print(c_surface_a(r,h))"
   ]
  },
  {
   "cell_type": "code",
   "execution_count": null,
   "id": "01490779",
   "metadata": {},
   "outputs": [],
   "source": [
    "# Q64\n",
    "# Write a Python program to returns sum of all divisors of a number\n",
    "\n",
    "\n",
    "def calculate_factors(N):\n",
    "    factors = []\n",
    "    for i in range(1, N + 1):\n",
    "        if N % i == 0:\n",
    "            factors.append(i)\n",
    "    return factors\n",
    "\n",
    "\n",
    "def sum_of_factors(N):\n",
    "    factors = calculate_factors(N)\n",
    "    sumOfFactors = sum(factors)\n",
    "    return sumOfFactors\n",
    "#     if sumOfFactors // 2 == N:\n",
    "#         return True\n",
    "#     else:\n",
    "#         return False\n",
    "\n",
    "n = int(input(\"Enter a number: \"))\n",
    "print(sum_of_factors(n))"
   ]
  },
  {
   "cell_type": "code",
   "execution_count": null,
   "id": "c2b2abba",
   "metadata": {},
   "outputs": [],
   "source": [
    "# Q65\n",
    "# Write a Python program to find the maximum and minimum numbers from the specified decimal numbers.\n",
    "\n",
    "a = list(map(float,input(\"enter float values : \").strip().split()))\n",
    "print(a)\n",
    "a.sort()\n",
    "print(a)\n",
    "print(f\"Minimum number is {a[0]}\")\n",
    "print(f\"Minimum number is {a[-1]}\")"
   ]
  }
 ],
 "metadata": {
  "celltoolbar": "Tags",
  "kernelspec": {
   "display_name": "Python 3 (ipykernel)",
   "language": "python",
   "name": "python3"
  },
  "language_info": {
   "codemirror_mode": {
    "name": "ipython",
    "version": 3
   },
   "file_extension": ".py",
   "mimetype": "text/x-python",
   "name": "python",
   "nbconvert_exporter": "python",
   "pygments_lexer": "ipython3",
   "version": "3.9.13"
  }
 },
 "nbformat": 4,
 "nbformat_minor": 5
}
