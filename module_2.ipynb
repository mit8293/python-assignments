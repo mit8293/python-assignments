{
 "cells": [
  {
   "cell_type": "code",
   "execution_count": null,
   "metadata": {},
   "outputs": [],
   "source": [
    "#Dynamically see if the number is positive , nagative or zero\n",
    "print(\"Welcome to the testing program to see your number is positive , nagative or zero\")\n",
    "number = int(input(\"Please enter a number: \"))\n",
    "if number > 0:\n",
    "    print(\"The number is Positive\")\n",
    "elif number == 0:\n",
    "    print(\"The number is Zero\")\n",
    "elif number < 0:\n",
    "    print(\"The number is Nagative\")\n",
    "else:\n",
    "    print(\"Invalid Input\")"
   ]
  },
  {
   "cell_type": "code",
   "execution_count": null,
   "metadata": {},
   "outputs": [],
   "source": [
    "#Get factorial number of given number\n",
    "print(\"Welcome to the factorial number program!\")\n",
    "n = int(input(\"Enter a number: \"))  \n",
    "fact = 1  \n",
    "if n < 0:  \n",
    "   print(\"Sorry, factorial does not exist for negative numbers\")  \n",
    "elif n == 0:  \n",
    "   print(\"The factorial of 0 is 1\")  \n",
    "else:  \n",
    "   for i in range(1,n + 1):  \n",
    "       fact = fact*i  \n",
    "   print(\"The factorial of\",n,\"is\",fact) "
   ]
  },
  {
   "cell_type": "code",
   "execution_count": null,
   "metadata": {},
   "outputs": [],
   "source": [
    "# Write a Python program to get the Fibonacci series of given range.\n",
    "range = int(input(\"Please enter the range : \"))\n",
    "n_1 = 0\n",
    "n_2 = 1\n",
    "count = 0\n",
    "if range < 0:\n",
    "  print(\"Please enter the positive number! \")\n",
    "elif range == 1:\n",
    "  print(\"Your sequence : \",n_1)\n",
    "elif range > 1:\n",
    "  print(\"Your sequence :\")\n",
    "  while count<range:\n",
    "    print(n_1)\n",
    "    nth = n_1 + n_2\n",
    "    n_1 = n_2\n",
    "    n_2 = nth\n",
    "    count += 1"
   ]
  },
  {
   "cell_type": "code",
   "execution_count": null,
   "metadata": {},
   "outputs": [],
   "source": [
    "#program to swap variables using temp and without using temp\n",
    "x = int(input(\"Please enter value of x : \"))\n",
    "y = int(input(\"Please enter value of y : \"))\n",
    "temp = x\n",
    "x = y\n",
    "y = temp\n",
    "print(f\"value of x is {x}\")\n",
    "print(f\"value of y is {y}\")\n",
    "\n",
    "#without using temp\n",
    "a = int(input(\"Please enter value of a : \"))\n",
    "b = int(input(\"Please enter value of b : \"))\n",
    "a , b = b , a\n",
    "print(f\"value of a is {a}\")\n",
    "print(f\"value of b is {b}\")"
   ]
  },
  {
   "cell_type": "code",
   "execution_count": null,
   "metadata": {},
   "outputs": [],
   "source": [
    "#Dynamic program to determine number is odd or even\n",
    "print(\"Welcome!\")\n",
    "number = int(input(\"Please enter a number : \"))\n",
    "if number % 2 == 0:\n",
    "    print(\"Number is even\")\n",
    "else:\n",
    "    print(\"Number is Odd\")"
   ]
  },
  {
   "cell_type": "code",
   "execution_count": null,
   "metadata": {},
   "outputs": [],
   "source": [
    "#programm to check letter is vowel or not\n",
    "x = input(\"Please enter a letter : \").lower()\n",
    "if len(x) == 1 and x.isalpha():\n",
    "  if x in ('a','e','i','o','u'):\n",
    "    print(\"letter is vowel\")\n",
    "  else:\n",
    "    print(\"Letter is not vowel\")\n",
    "else:\n",
    "  print(\"Please enter only 1 alphabet\")"
   ]
  },
  {
   "cell_type": "code",
   "execution_count": null,
   "metadata": {},
   "outputs": [],
   "source": [
    "print(\"program to calculate sum of 3 integars if 2 int are same sum will be zero\")\n",
    "x = int(input(\"Please enter value of x: \"))\n",
    "y = int(input(\"Please enter value of y: \"))\n",
    "z = int(input(\"Please enter value of z: \"))\n",
    "sum = x + y + z\n",
    "if x == y:\n",
    "  sum = 0\n",
    "  print(f\"Sum is {sum}\")\n",
    "elif y == z:\n",
    "  sum = 0\n",
    "  print(f\"Sum is {sum}\")\n",
    "elif x == z:\n",
    "  sum = 0\n",
    "  print(f\"Sum is {sum}\")\n",
    "else:\n",
    "  print(f\"Sum is {sum}\")"
   ]
  },
  {
   "cell_type": "code",
   "execution_count": null,
   "metadata": {},
   "outputs": [],
   "source": [
    "print(\"program that will return true if the two given integers are equal or their sum or their diff is 5\")\n",
    "a = int(input(\"Please enter value of a: \"))\n",
    "b = int(input(\"Please enter value of b: \"))\n",
    "ret = False\n",
    "if a == b or a + b == 5 or a - b == 5:\n",
    "  ret = True\n",
    "  print(ret)\n",
    "else:\n",
    "  print(ret)"
   ]
  },
  {
   "cell_type": "code",
   "execution_count": null,
   "metadata": {},
   "outputs": [],
   "source": [
    "print(\"Program for sum of n positive integars\")\n",
    "n = int(input(\"Please enter the number to get the total sum of positive int: \"))\n",
    "start = 1\n",
    "total_sum = (n * (n + 1))/2\n",
    "print(int(total_sum))"
   ]
  },
  {
   "cell_type": "code",
   "execution_count": null,
   "metadata": {},
   "outputs": [],
   "source": [
    "print(\"Program to calculate length of string\")\n",
    "str1 = input(\"PLease enter : \")\n",
    "print(len(str1))"
   ]
  },
  {
   "cell_type": "code",
   "execution_count": null,
   "metadata": {},
   "outputs": [],
   "source": [
    "print(\"Program to count number of chars for string\")\n",
    "str1 = input(\"Please enter the string:\")\n",
    "count = 0\n",
    "for i in str1:\n",
    "    if i.isalpha():\n",
    "        count +=1\n",
    "print(f\"Number of chars are {count}\")"
   ]
  },
  {
   "cell_type": "code",
   "execution_count": null,
   "metadata": {},
   "outputs": [],
   "source": [
    "print(\"Program to count occurrences of a substring in a string.\")\n",
    "str1 = input(\"Please enter input : \")\n",
    "str2 = input(\"Please enter substring : \")\n",
    "count = 0\n",
    "for i in range(len(str1)-len(str2)+1):\n",
    "    if(str1.startswith(str2,i)):\n",
    "        count+=1\n",
    "print(count)"
   ]
  },
  {
   "cell_type": "code",
   "execution_count": null,
   "metadata": {},
   "outputs": [],
   "source": [
    "print(\"program to count the occurrences of each word in a given sentence\")\n",
    "str3 = input(\"Please enter a string : \")\n",
    "a=str3.split(\" \")\n",
    "count1=0\n",
    "for j in range(len(a)):\n",
    "    if a[j].isalpha():\n",
    "        count1+=1\n",
    "print(count1)"
   ]
  },
  {
   "cell_type": "code",
   "execution_count": null,
   "metadata": {},
   "outputs": [],
   "source": [
    "print(\"Python  program  to  get  a  single  string  from  two  given  strings,  separated by a space and swap the first two characters of each string\")\n",
    "str1=input(\"String1: \")\n",
    "str2=input(\"String2: \")\n",
    "x = str2[:2] + str1[2:]\n",
    "y = str1[:2] + str2[2:]\n",
    "print(f\"string 1 is {x}\")\n",
    "print(f\"string 2 is {y}\")\n",
    "str3 = \" \".join([x,y])\n",
    "print(str3)"
   ]
  },
  {
   "cell_type": "code",
   "execution_count": null,
   "metadata": {},
   "outputs": [],
   "source": [
    "print(\"Python  program to add 'ing'  at the end of a given  string  (length should be at least 3). If the given string already ends with 'ing' then add 'ly' instead if  the  string  length  of  the  given  string  is  less  than  3,  leave  it unchanged\")\n",
    "str1 = input(\"Please enter a string: \")\n",
    "\n",
    "if str1.endswith(\"ing\"):\n",
    "    str2 = 'ly'.join(str1.rsplit(\"ing\",1))\n",
    "    print(str2)\n",
    "elif len(str1) > 3:\n",
    "    print(f\"{str1}ing\")\n",
    "else:\n",
    "    print(str1)"
   ]
  },
  {
   "cell_type": "code",
   "execution_count": null,
   "metadata": {},
   "outputs": [],
   "source": [
    "\n",
    "print(\"Python program to find the first appearance of the substring 'not' and 'poor' from a given string, if 'not' follows the 'poor', replace the whole 'not'...'poor' substring with 'good'. Return the resulting string. \")\n",
    "str4 = input(\"Enter your input:\")\n",
    "a = str4.find('not')\n",
    "b = str4.find('poor')\n",
    "if a > b:\n",
    "    replace = \"good\"\n",
    "    new_str = str4.replace(\"poor\",replace)\n",
    "    res = new_str[:new_str.index(replace) + len(replace)]\n",
    "    res1 = new_str[new_str.index(\"not\")+3:]\n",
    "    print(str(res))\n",
    "    print(str(res1))\n",
    "    print(str(res)+str(res1))\n",
    "\n",
    "\n",
    "# a = str4.split(\" \")\n",
    "# if a.index(\"not\") > a.index(\"poor\"):\n",
    "#     for i in range(a.index(\"poor\"),a.index(\"not\")+1):\n",
    "#         a[i] = \"good\"\n",
    "#         break\n",
    "#     b=' '.join(a)\n",
    "#     print(a)\n",
    "#     print(b)\n",
    "    \n",
    "\n",
    "\n",
    "# if str4.find(\"poor\") < str4.find(\"not\"):\n",
    "# for i in((\"not\",\"good\"),(\"poor\",\"good\")):\n",
    "#     str4 = str4.replace(*i)\n",
    "# print(str4)\n",
    "\n",
    "    # b = str4.split(\" \")\n",
    "    # for i in range(len(b)):\n",
    "    #     b[i]=\"good\"\n",
    "    #     print(b)\n",
    "\n",
    "\n",
    "# string = input(\"Enter a string:\")\n",
    "# a = string.find('not')\n",
    "# b = string.find('poor')\n",
    "# print(\"Appearence of 'not':\",a)\n",
    "# print(\"Appearence of 'poor':\",b)\n",
    "# if a > b:\n",
    "#     new_string = string\n",
    "# # if b + 4 == a:\n",
    "# #     print(string[0:b]+\"good\"+string[a+3:])\n"
   ]
  },
  {
   "cell_type": "code",
   "execution_count": null,
   "metadata": {},
   "outputs": [],
   "source": [
    "print(\"Python  function  that takes a list of words and returns the length of the longest one. \")\n",
    "list1 = input(\"Please enter the words with space for your list : \").split()\n",
    "print(list1)\n",
    "count = -1\n",
    "for i in list1:\n",
    "    if len(i) > count:\n",
    "        count = len(i)\n",
    "        result = i\n",
    "print(f\"Biggest word is : {result}\")\n",
    "print(f\"Length is : {count}\")"
   ]
  },
  {
   "cell_type": "code",
   "execution_count": null,
   "metadata": {},
   "outputs": [],
   "source": [
    "print(\" Python function to reverses a string if its length is a multiple of 4. \")\n",
    "str1 = input(\"Please enter string : \")\n",
    "str2 = ''\n",
    "if len(str1) % 4 == 0:\n",
    "    for i in str1:\n",
    "        str2 = i + str2\n",
    "    print(str2)"
   ]
  },
  {
   "cell_type": "code",
   "execution_count": null,
   "metadata": {},
   "outputs": [],
   "source": [
    "print(\"\"\"Write a Python program to get a string made of the first 2 and the last 2 \n",
    "chars from a given a string. If the string length is less than 2, return instead \n",
    "of the empty string. \n",
    "o Sample String: w3resource'  \n",
    "o Expected Result: 'w3ce'  \n",
    "o Sample String: 'w3'  \n",
    "o Expected Result: 'w3w3'  \n",
    "o Sample String: ' w' \n",
    "o Expected Result: Empty String \"\"\")\n",
    "str1 = input(\"Please enter the string: \")\n",
    "x = str1[:2]\n",
    "y = str1[-2:]\n",
    "\n",
    "if len(str1)<2:\n",
    "    print(\"empty string\")\n",
    "elif str1.find(\" \") == 0 or str1.find(\" \") == 1:\n",
    "    print(\"empty string\")\n",
    "else:\n",
    "    print(x+y)"
   ]
  },
  {
   "cell_type": "code",
   "execution_count": null,
   "metadata": {},
   "outputs": [],
   "source": [
    "print(\"Python function to insert a string in the middle of a string.\")\n",
    "\n",
    "str1 = input(\"Enter string1 : \")\n",
    "str2 = input(\"Enter middle string : \")\n",
    "midString = len(str1)//2\n",
    "str3 = str1[:midString]+str2+str1[midString:]\n",
    "print(str3)\n",
    "#test"
   ]
  }
 ],
 "metadata": {
  "kernelspec": {
   "display_name": "Python 3 (ipykernel)",
   "language": "python",
   "name": "python3"
  },
  "language_info": {
   "codemirror_mode": {
    "name": "ipython",
    "version": 3
   },
   "file_extension": ".py",
   "mimetype": "text/x-python",
   "name": "python",
   "nbconvert_exporter": "python",
   "pygments_lexer": "ipython3",
   "version": "3.9.13"
  },
  "vscode": {
   "interpreter": {
    "hash": "47e86d731e077963188d400b641a1f5cee6401b89b8a1175acb1a082248e2517"
   }
  }
 },
 "nbformat": 4,
 "nbformat_minor": 2
}
